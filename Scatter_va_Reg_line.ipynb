{
  "cells": [
    {
      "cell_type": "markdown",
      "metadata": {
        "id": "view-in-github",
        "colab_type": "text"
      },
      "source": [
        "<a href=\"https://colab.research.google.com/github/fereshtehdehkhoda/Example-27-Scatter-va-Reg-line/blob/main/Scatter_va_Reg_line.ipynb\" target=\"_parent\"><img src=\"https://colab.research.google.com/assets/colab-badge.svg\" alt=\"Open In Colab\"/></a>"
      ]
    },
    {
      "cell_type": "code",
      "execution_count": null,
      "id": "141814e2-6252-4551-84c6-7fe3152d7f61",
      "metadata": {
        "id": "141814e2-6252-4551-84c6-7fe3152d7f61"
      },
      "outputs": [],
      "source": [
        "#داده‌های زیر به منظور مطالعه اثر ویسکوزیته روغن (x) بر فرسایش اصطکاکی فولاد کم کربن (y) جمع آوری شده است. در قالب نمودار پراکندگی رابطه بین این دو را بررسی کرده و خط رگرسیون را روی نقاط برازش دهید. کدام گزینه درست است؟"
      ]
    },
    {
      "cell_type": "code",
      "execution_count": null,
      "id": "0dfa97c1-3b41-434b-a626-90c17f4ff4b6",
      "metadata": {
        "id": "0dfa97c1-3b41-434b-a626-90c17f4ff4b6"
      },
      "outputs": [],
      "source": [
        "import pandas as pd\n",
        "import numpy as np\n",
        "import matplotlib.pyplot as plt"
      ]
    },
    {
      "cell_type": "code",
      "execution_count": null,
      "id": "de014bbe-f577-49ca-9628-cfdfffeda8e5",
      "metadata": {
        "id": "de014bbe-f577-49ca-9628-cfdfffeda8e5"
      },
      "outputs": [],
      "source": [
        "data=pd.read_csv(\"oil.csv\")"
      ]
    },
    {
      "cell_type": "code",
      "execution_count": null,
      "id": "ea251773-ef15-4917-b167-d5becf52ca4e",
      "metadata": {
        "id": "ea251773-ef15-4917-b167-d5becf52ca4e",
        "outputId": "fca786a3-efbf-4866-9e9b-c2c82aa09401"
      },
      "outputs": [
        {
          "name": "stdout",
          "output_type": "stream",
          "text": [
            "<class 'pandas.core.frame.DataFrame'>\n",
            "RangeIndex: 9 entries, 0 to 8\n",
            "Data columns (total 2 columns):\n",
            " #   Column  Non-Null Count  Dtype  \n",
            "---  ------  --------------  -----  \n",
            " 0   x       9 non-null      float64\n",
            " 1   y       9 non-null      int64  \n",
            "dtypes: float64(1), int64(1)\n",
            "memory usage: 276.0 bytes\n"
          ]
        }
      ],
      "source": [
        "data.info()"
      ]
    },
    {
      "cell_type": "code",
      "execution_count": null,
      "id": "561b5308-497a-4f76-9a4c-b7d134314d57",
      "metadata": {
        "id": "561b5308-497a-4f76-9a4c-b7d134314d57",
        "outputId": "bfc592ae-c475-4b12-e047-26bf26fc98e2"
      },
      "outputs": [
        {
          "data": {
            "text/html": [
              "<div>\n",
              "<style scoped>\n",
              "    .dataframe tbody tr th:only-of-type {\n",
              "        vertical-align: middle;\n",
              "    }\n",
              "\n",
              "    .dataframe tbody tr th {\n",
              "        vertical-align: top;\n",
              "    }\n",
              "\n",
              "    .dataframe thead th {\n",
              "        text-align: right;\n",
              "    }\n",
              "</style>\n",
              "<table border=\"1\" class=\"dataframe\">\n",
              "  <thead>\n",
              "    <tr style=\"text-align: right;\">\n",
              "      <th></th>\n",
              "      <th>x</th>\n",
              "      <th>y</th>\n",
              "    </tr>\n",
              "  </thead>\n",
              "  <tbody>\n",
              "    <tr>\n",
              "      <th>0</th>\n",
              "      <td>1.6</td>\n",
              "      <td>240</td>\n",
              "    </tr>\n",
              "    <tr>\n",
              "      <th>1</th>\n",
              "      <td>9.4</td>\n",
              "      <td>181</td>\n",
              "    </tr>\n",
              "    <tr>\n",
              "      <th>2</th>\n",
              "      <td>15.5</td>\n",
              "      <td>193</td>\n",
              "    </tr>\n",
              "    <tr>\n",
              "      <th>3</th>\n",
              "      <td>20.0</td>\n",
              "      <td>155</td>\n",
              "    </tr>\n",
              "    <tr>\n",
              "      <th>4</th>\n",
              "      <td>22.0</td>\n",
              "      <td>172</td>\n",
              "    </tr>\n",
              "  </tbody>\n",
              "</table>\n",
              "</div>"
            ],
            "text/plain": [
              "      x    y\n",
              "0   1.6  240\n",
              "1   9.4  181\n",
              "2  15.5  193\n",
              "3  20.0  155\n",
              "4  22.0  172"
            ]
          },
          "execution_count": 7,
          "metadata": {},
          "output_type": "execute_result"
        }
      ],
      "source": [
        "data.head()"
      ]
    },
    {
      "cell_type": "code",
      "execution_count": null,
      "id": "8d0959c4-7ea8-4aa0-b3be-aad29b65fe0b",
      "metadata": {
        "id": "8d0959c4-7ea8-4aa0-b3be-aad29b65fe0b",
        "outputId": "a2ed1932-b020-44ea-fec6-1f700303af9c"
      },
      "outputs": [
        {
          "data": {
            "image/png": "[encoded data removed]",
            "text/plain": [
              "<Figure size 640x480 with 1 Axes>"
            ]
          },
          "metadata": {},
          "output_type": "display_data"
        }
      ],
      "source": [
        "plt.scatter(x=data['x'],y=data['y'],color='r')\n",
        "plt.xlabel('asare viskozite roghan')\n",
        "plt.ylabel('farsayesh estekaki kam karbon')\n",
        "plt.title('oil vs carbon')\n",
        "\n",
        "#regression line\n",
        "plt.plot(xp,yp,label='reg line',color='b')\n",
        "plt.legend()\n",
        "\n",
        "plt.show()"
      ]
    },
    {
      "cell_type": "code",
      "execution_count": null,
      "id": "abef2841-904f-4b26-a86b-eff0840ec30c",
      "metadata": {
        "id": "abef2841-904f-4b26-a86b-eff0840ec30c",
        "outputId": "0d7e4932-dbae-4df9-a691-22fe078a0fd5"
      },
      "outputs": [
        {
          "data": {
            "text/plain": [
              "array([ -3.50855627, 234.07073979])"
            ]
          },
          "execution_count": 17,
          "metadata": {},
          "output_type": "execute_result"
        }
      ],
      "source": [
        "params=np.polyfit(data['x'],data['y'],1)\n",
        "params"
      ]
    },
    {
      "cell_type": "code",
      "execution_count": null,
      "id": "2c688e35-996e-45ed-ba22-6191ae2e104b",
      "metadata": {
        "id": "2c688e35-996e-45ed-ba22-6191ae2e104b"
      },
      "outputs": [],
      "source": [
        "xp=np.linspace(data['x'].min(),data['x'].max(),100)\n",
        "yp=np.polyval(params,xp)"
      ]
    },
    {
      "cell_type": "code",
      "execution_count": null,
      "id": "143638c9-987f-4546-b85b-00cb99380054",
      "metadata": {
        "id": "143638c9-987f-4546-b85b-00cb99380054"
      },
      "outputs": [],
      "source": []
    }
  ],
  "metadata": {
    "kernelspec": {
      "display_name": "Python 3 (ipykernel)",
      "language": "python",
      "name": "python3"
    },
    "language_info": {
      "codemirror_mode": {
        "name": "ipython",
        "version": 3
      },
      "file_extension": ".py",
      "mimetype": "text/x-python",
      "name": "python",
      "nbconvert_exporter": "python",
      "pygments_lexer": "ipython3",
      "version": "3.12.4"
    },
    "colab": {
      "provenance": [],
      "include_colab_link": true
    }
  },
  "nbformat": 4,
  "nbformat_minor": 5
}